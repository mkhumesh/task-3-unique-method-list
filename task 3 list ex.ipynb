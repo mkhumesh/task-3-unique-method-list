{
 "cells": [
  {
   "cell_type": "markdown",
   "id": "c903531f-e8d3-41ff-b872-33fbef55a966",
   "metadata": {},
   "source": [
    "# LIST"
   ]
  },
  {
   "cell_type": "code",
   "execution_count": 26,
   "id": "45b8aeef-8971-4d74-a8c3-b2db4e4e12bb",
   "metadata": {},
   "outputs": [],
   "source": [
    "a1 = [213,34,1234,35,23,1,23,354,1,32,12,424,12]"
   ]
  },
  {
   "cell_type": "code",
   "execution_count": 28,
   "id": "191ec22f-8285-498f-872a-10233c36bd2c",
   "metadata": {},
   "outputs": [
    {
     "data": {
      "text/plain": [
       "[213, 34, 1234, 35, 23, 1, 23, 354, 1, 32, 12, 424, 12]"
      ]
     },
     "execution_count": 28,
     "metadata": {},
     "output_type": "execute_result"
    }
   ],
   "source": [
    "a1"
   ]
  },
  {
   "cell_type": "code",
   "execution_count": 30,
   "id": "07d282e5-8865-4a15-9800-de3d8e090f05",
   "metadata": {},
   "outputs": [
    {
     "data": {
      "text/plain": [
       "23"
      ]
     },
     "execution_count": 30,
     "metadata": {},
     "output_type": "execute_result"
    }
   ],
   "source": [
    "a1[6]"
   ]
  },
  {
   "cell_type": "markdown",
   "id": "ad3342b0-63a1-4ad8-a35d-f98878c9eeed",
   "metadata": {},
   "source": []
  },
  {
   "cell_type": "code",
   "execution_count": 6,
   "id": "8ca71ddb-9d83-4bdf-8006-3891bee3f543",
   "metadata": {},
   "outputs": [
    {
     "data": {
      "text/plain": [
       "[213, 34, 1234, 35, 23, 1, 23, 354, 1, 32, 12, 424, 12]"
      ]
     },
     "execution_count": 6,
     "metadata": {},
     "output_type": "execute_result"
    }
   ],
   "source": [
    "a1.copy()"
   ]
  },
  {
   "cell_type": "markdown",
   "id": "39206579-6c2d-429e-b4eb-6ee8ffbd56a4",
   "metadata": {},
   "source": []
  },
  {
   "cell_type": "code",
   "execution_count": 8,
   "id": "d24b0e7a-d8a6-4580-9638-033d88878d39",
   "metadata": {},
   "outputs": [
    {
     "data": {
      "text/plain": [
       "1"
      ]
     },
     "execution_count": 8,
     "metadata": {},
     "output_type": "execute_result"
    }
   ],
   "source": [
    "min(a1)"
   ]
  },
  {
   "cell_type": "markdown",
   "id": "14d3b432-ae8c-46bf-8da0-3b30f24dd6b0",
   "metadata": {},
   "source": []
  },
  {
   "cell_type": "code",
   "execution_count": 10,
   "id": "7d489de4-afec-4a98-960b-c975e33167a5",
   "metadata": {},
   "outputs": [
    {
     "data": {
      "text/plain": [
       "1234"
      ]
     },
     "execution_count": 10,
     "metadata": {},
     "output_type": "execute_result"
    }
   ],
   "source": [
    "max(a1)"
   ]
  },
  {
   "cell_type": "markdown",
   "id": "1017d51d-d121-427a-8a68-aecb7e777eea",
   "metadata": {},
   "source": []
  },
  {
   "cell_type": "code",
   "execution_count": 12,
   "id": "f55d5860-bf42-442e-b67e-c770bdd6ba0f",
   "metadata": {},
   "outputs": [
    {
     "data": {
      "text/plain": [
       "13"
      ]
     },
     "execution_count": 12,
     "metadata": {},
     "output_type": "execute_result"
    }
   ],
   "source": [
    "len(a1)"
   ]
  },
  {
   "cell_type": "markdown",
   "id": "0d7ff634-486e-4607-bd60-5f6525c99ba4",
   "metadata": {},
   "source": []
  },
  {
   "cell_type": "code",
   "execution_count": 14,
   "id": "3f25237b-49a3-4359-91b2-ff1d52eaaee3",
   "metadata": {},
   "outputs": [
    {
     "data": {
      "text/plain": [
       "2398"
      ]
     },
     "execution_count": 14,
     "metadata": {},
     "output_type": "execute_result"
    }
   ],
   "source": [
    "sum(a1)"
   ]
  },
  {
   "cell_type": "markdown",
   "id": "ce5ff7e1-0aa1-4492-949f-ae086785510b",
   "metadata": {},
   "source": []
  },
  {
   "cell_type": "code",
   "execution_count": 16,
   "id": "73363d16-0cb7-4f12-a195-65cd59c7533f",
   "metadata": {},
   "outputs": [
    {
     "data": {
      "text/plain": [
       "[34]"
      ]
     },
     "execution_count": 16,
     "metadata": {},
     "output_type": "execute_result"
    }
   ],
   "source": [
    "a1[1:8:12]"
   ]
  },
  {
   "cell_type": "markdown",
   "id": "46646925-8c74-4cac-b3b3-c008e35df783",
   "metadata": {},
   "source": []
  },
  {
   "cell_type": "code",
   "execution_count": 18,
   "id": "c3c1b9fb-798e-47e3-a1d2-46f55780be56",
   "metadata": {},
   "outputs": [
    {
     "data": {
      "text/plain": [
       "[213, 34, 1234, 35, 23]"
      ]
     },
     "execution_count": 18,
     "metadata": {},
     "output_type": "execute_result"
    }
   ],
   "source": [
    "a1[0:5:1]"
   ]
  },
  {
   "cell_type": "code",
   "execution_count": 19,
   "id": "924513b2-800b-48af-a728-799f9cbb780a",
   "metadata": {},
   "outputs": [],
   "source": [
    "A2 = [ 'nanu','buva','mami','kaku','kakaji']"
   ]
  },
  {
   "cell_type": "code",
   "execution_count": 20,
   "id": "0af24854-89f5-4782-ac89-dfcd2f77aa30",
   "metadata": {},
   "outputs": [
    {
     "data": {
      "text/plain": [
       "['nanu', 'buva', 'mami', 'kaku', 'kakaji']"
      ]
     },
     "execution_count": 20,
     "metadata": {},
     "output_type": "execute_result"
    }
   ],
   "source": [
    "A2"
   ]
  },
  {
   "cell_type": "code",
   "execution_count": 21,
   "id": "a9304001-9b31-41cd-8c7e-29617a611bfa",
   "metadata": {},
   "outputs": [
    {
     "name": "stdout",
     "output_type": "stream",
     "text": [
      "nanu buva mami kaku kakaji\n"
     ]
    }
   ],
   "source": [
    "print(\" \".join(A2))"
   ]
  },
  {
   "cell_type": "code",
   "execution_count": 22,
   "id": "52756a4a-210b-447b-84d9-c5a0f28106ea",
   "metadata": {},
   "outputs": [],
   "source": [
    "A2.append('dadi')"
   ]
  },
  {
   "cell_type": "code",
   "execution_count": 23,
   "id": "4828f89a-fff5-42aa-a84e-cb5633c4eaa1",
   "metadata": {},
   "outputs": [
    {
     "data": {
      "text/plain": [
       "['nanu', 'buva', 'mami', 'kaku', 'kakaji', 'dadi']"
      ]
     },
     "execution_count": 23,
     "metadata": {},
     "output_type": "execute_result"
    }
   ],
   "source": [
    "A2"
   ]
  },
  {
   "cell_type": "code",
   "execution_count": 24,
   "id": "574c0adf-03ca-47d0-bfa0-639b3fb7613e",
   "metadata": {},
   "outputs": [
    {
     "data": {
      "text/plain": [
       "'dadi'"
      ]
     },
     "execution_count": 24,
     "metadata": {},
     "output_type": "execute_result"
    }
   ],
   "source": [
    "A2[-1]"
   ]
  },
  {
   "cell_type": "code",
   "execution_count": 39,
   "id": "098756f9-5f13-42e4-9861-b1f31fa381dc",
   "metadata": {},
   "outputs": [],
   "source": [
    "A2.insert(2,'mamu')"
   ]
  },
  {
   "cell_type": "code",
   "execution_count": 41,
   "id": "b989b53d-2ec2-4c33-adda-6568ed03d076",
   "metadata": {},
   "outputs": [
    {
     "data": {
      "text/plain": [
       "['nanu', 'buva', 'mamu', 'mami', 'kaku', 'kakaji', 'dadi']"
      ]
     },
     "execution_count": 41,
     "metadata": {},
     "output_type": "execute_result"
    }
   ],
   "source": [
    "A2"
   ]
  },
  {
   "cell_type": "code",
   "execution_count": 49,
   "id": "4cad60fc-f754-4ace-b994-92c70311a291",
   "metadata": {},
   "outputs": [
    {
     "data": {
      "text/plain": [
       "'mami'"
      ]
     },
     "execution_count": 49,
     "metadata": {},
     "output_type": "execute_result"
    }
   ],
   "source": [
    "A2[A2.index('mami')]"
   ]
  },
  {
   "cell_type": "code",
   "execution_count": 59,
   "id": "438dd70f-48fb-4f62-bdc3-0e31637440ba",
   "metadata": {},
   "outputs": [
    {
     "data": {
      "text/plain": [
       "'mami'"
      ]
     },
     "execution_count": 59,
     "metadata": {},
     "output_type": "execute_result"
    }
   ],
   "source": [
    "A2[A2.index('mami'or'dadi')]"
   ]
  },
  {
   "cell_type": "code",
   "execution_count": 55,
   "id": "58bad70d-c69b-47b8-86da-0d6b3461a867",
   "metadata": {},
   "outputs": [
    {
     "data": {
      "text/plain": [
       "'dadi'"
      ]
     },
     "execution_count": 55,
     "metadata": {},
     "output_type": "execute_result"
    }
   ],
   "source": [
    "A2[A2.index('mami'and'dadi')]"
   ]
  },
  {
   "cell_type": "code",
   "execution_count": 69,
   "id": "d1c30fd1-ab39-4d67-9ed5-a4f7d1a54ad6",
   "metadata": {},
   "outputs": [
    {
     "data": {
      "text/plain": [
       "['nanu', 'buva', 'mamu']"
      ]
     },
     "execution_count": 69,
     "metadata": {},
     "output_type": "execute_result"
    }
   ],
   "source": [
    "A2[0:-4]"
   ]
  },
  {
   "cell_type": "code",
   "execution_count": 71,
   "id": "5de9e853-d702-47f1-b35b-28eea610a3de",
   "metadata": {},
   "outputs": [],
   "source": [
    "A2.sort()"
   ]
  },
  {
   "cell_type": "code",
   "execution_count": 73,
   "id": "c52b600d-395f-45b3-8be2-2bd57fa33c37",
   "metadata": {},
   "outputs": [
    {
     "data": {
      "text/plain": [
       "['buva', 'dadi', 'kakaji', 'kaku', 'mami', 'mamu', 'nanu']"
      ]
     },
     "execution_count": 73,
     "metadata": {},
     "output_type": "execute_result"
    }
   ],
   "source": [
    "A2"
   ]
  },
  {
   "cell_type": "code",
   "execution_count": 75,
   "id": "beab9114-2077-455e-bcc7-31c73c25b9d5",
   "metadata": {},
   "outputs": [],
   "source": [
    "A2.reverse()"
   ]
  },
  {
   "cell_type": "code",
   "execution_count": 77,
   "id": "49b08fbe-d05f-4a42-9b8e-e6585c0dd412",
   "metadata": {},
   "outputs": [
    {
     "data": {
      "text/plain": [
       "['nanu', 'mamu', 'mami', 'kaku', 'kakaji', 'dadi', 'buva']"
      ]
     },
     "execution_count": 77,
     "metadata": {},
     "output_type": "execute_result"
    }
   ],
   "source": [
    "A2"
   ]
  },
  {
   "cell_type": "code",
   "execution_count": 83,
   "id": "138eed2a-79eb-4333-aea1-b6bf44878c8e",
   "metadata": {},
   "outputs": [],
   "source": [
    "A2.sort(reverse = True)"
   ]
  },
  {
   "cell_type": "code",
   "execution_count": 85,
   "id": "1a5f753d-8874-4d86-830a-70abb932dc30",
   "metadata": {},
   "outputs": [
    {
     "data": {
      "text/plain": [
       "['nanu', 'mamu', 'mami', 'kaku', 'kakaji', 'dadi', 'buva']"
      ]
     },
     "execution_count": 85,
     "metadata": {},
     "output_type": "execute_result"
    }
   ],
   "source": [
    "A2"
   ]
  },
  {
   "cell_type": "code",
   "execution_count": 119,
   "id": "1b22c7b5-daf4-462a-8dda-0631b1c272b2",
   "metadata": {},
   "outputs": [],
   "source": [
    "A2.extend(a1)"
   ]
  },
  {
   "cell_type": "code",
   "execution_count": 121,
   "id": "dbeb7914-c59b-4a81-991c-6f26af08fd43",
   "metadata": {},
   "outputs": [
    {
     "name": "stdout",
     "output_type": "stream",
     "text": [
      "['nanu', 'mamu', 'mami', 'kaku', 'kakaji', 'dadi', 'buva', 213, 34, 1234, 35, 23, 1, 23, 354, 1, 32, 12, 424, 12, 213, 34, 1234, 35, 23, 1, 23, 354, 1, 32, 12, 424, 12, 213, 34, 1234, 35, 23, 1, 23, 354, 1, 32, 12, 424, 12, 213, 34, 1234, 35, 23, 1, 23, 354, 1, 32, 12, 424, 12]\n"
     ]
    }
   ],
   "source": [
    "print(A2)"
   ]
  },
  {
   "cell_type": "code",
   "execution_count": null,
   "id": "41f15097-7d26-4804-9875-1fed0c543c62",
   "metadata": {},
   "outputs": [],
   "source": []
  },
  {
   "cell_type": "code",
   "execution_count": 133,
   "id": "0feb31f4-793c-4df9-ab31-6316a4142fb8",
   "metadata": {},
   "outputs": [
    {
     "name": "stdout",
     "output_type": "stream",
     "text": [
      "[183, 143, 1432, 420, 786, 1235, 254]\n"
     ]
    }
   ],
   "source": [
    "t1 = [183, 143, 1432, 420, 786, 1235, 254]\n",
    "\n",
    "print(t1)"
   ]
  },
  {
   "cell_type": "code",
   "execution_count": 141,
   "id": "fec76c8d-2118-484d-af87-6e3f94913572",
   "metadata": {},
   "outputs": [],
   "source": [
    "t1.remove(183,420)"
   ]
  },
  {
   "cell_type": "code",
   "execution_count": 143,
   "id": "11b642c6-d2cc-4c01-bf9a-13f2a5ed6c38",
   "metadata": {},
   "outputs": [
    {
     "data": {
      "text/plain": [
       "[143, 1432, 786, 1235, 254]"
      ]
     },
     "execution_count": 143,
     "metadata": {},
     "output_type": "execute_result"
    }
   ],
   "source": [
    "t1"
   ]
  },
  {
   "cell_type": "code",
   "execution_count": 149,
   "id": "5f44c4f4-4fe9-4041-b031-2d32930ff3c7",
   "metadata": {},
   "outputs": [],
   "source": [
    "T6= [ 12,214,'hfhfgg',2211,233214,13456,463,'dhd','gfh']"
   ]
  },
  {
   "cell_type": "code",
   "execution_count": 151,
   "id": "69b87596-c4bb-49e2-82a5-ecf324e1eb99",
   "metadata": {},
   "outputs": [
    {
     "data": {
      "text/plain": [
       "[214]"
      ]
     },
     "execution_count": 151,
     "metadata": {},
     "output_type": "execute_result"
    }
   ],
   "source": [
    "T6[1:6:5]"
   ]
  },
  {
   "cell_type": "code",
   "execution_count": 163,
   "id": "c2832c9e-cc44-479d-b737-741ec437d96d",
   "metadata": {},
   "outputs": [],
   "source": [
    "T6.remove(12)"
   ]
  },
  {
   "cell_type": "code",
   "execution_count": 165,
   "id": "38de4961-af0a-461d-969e-30dd47b95a4e",
   "metadata": {},
   "outputs": [
    {
     "data": {
      "text/plain": [
       "[214, 'hfhfgg', 2211, 233214, 13456, 463, 'dhd', 'gfh']"
      ]
     },
     "execution_count": 165,
     "metadata": {},
     "output_type": "execute_result"
    }
   ],
   "source": [
    "T6"
   ]
  },
  {
   "cell_type": "code",
   "execution_count": 177,
   "id": "a6c7d58d-6c23-4400-b5f7-eb410f13c802",
   "metadata": {},
   "outputs": [
    {
     "data": {
      "text/plain": [
       "[214, 'hfhfgg', 2211, 233214, 13456, 463, 'gfh']"
      ]
     },
     "execution_count": 177,
     "metadata": {},
     "output_type": "execute_result"
    }
   ],
   "source": [
    "T6"
   ]
  },
  {
   "cell_type": "code",
   "execution_count": null,
   "id": "adf69120-e1cb-4886-bec0-58f0ce423038",
   "metadata": {},
   "outputs": [],
   "source": []
  }
 ],
 "metadata": {
  "kernelspec": {
   "display_name": "Python 3 (ipykernel)",
   "language": "python",
   "name": "python3"
  },
  "language_info": {
   "codemirror_mode": {
    "name": "ipython",
    "version": 3
   },
   "file_extension": ".py",
   "mimetype": "text/x-python",
   "name": "python",
   "nbconvert_exporter": "python",
   "pygments_lexer": "ipython3",
   "version": "3.12.4"
  }
 },
 "nbformat": 4,
 "nbformat_minor": 5
}
